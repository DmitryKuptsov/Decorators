{
  "cells": [
    {
      "cell_type": "markdown",
      "id": "11a22a53",
      "metadata": {
        "id": "11a22a53"
      },
      "source": [
        "# Дектораторы\n",
        "\n",
        "В этом домашнем задании мы напишем собственные дектораторы, которые будут менять системные объекты. Но для начала мы с вами познакомимся с функцией `write`."
      ]
    },
    {
      "cell_type": "code",
      "execution_count": 1,
      "id": "2c2dc3b0",
      "metadata": {
        "colab": {
          "base_uri": "https://localhost:8080/"
        },
        "id": "2c2dc3b0",
        "outputId": "93170cef-58c8-4580-9052-30a63845e579"
      },
      "outputs": [
        {
          "output_type": "stream",
          "name": "stdout",
          "text": [
            "Hello, my friend!"
          ]
        }
      ],
      "source": [
        "import sys\n",
        "\n",
        "sys.stdout.write('Hello, my friend!')"
      ]
    },
    {
      "cell_type": "markdown",
      "id": "23c92635",
      "metadata": {
        "id": "23c92635"
      },
      "source": [
        "Это метод объектов file-like классов, то есть классов, которые реализуют семантику \"Меня можно создать, из меня можно прочитать и в меня можно записать\".\n",
        "\n",
        "Самый главный пример такого объекта -- объект `file`, являющийся результатом вызова фукнции `open()`. Для простоты и универсальности взаимодействия, стандартный ввод и стандартный вывод тоже являются файлами, из которых можно читать и в которые можно писать. "
      ]
    },
    {
      "cell_type": "code",
      "execution_count": 2,
      "id": "0ce62055",
      "metadata": {
        "id": "0ce62055"
      },
      "outputs": [],
      "source": [
        "output = open(\"./some_test_data.txt\", 'w')"
      ]
    },
    {
      "cell_type": "code",
      "execution_count": 3,
      "id": "302f574f",
      "metadata": {
        "colab": {
          "base_uri": "https://localhost:8080/"
        },
        "id": "302f574f",
        "outputId": "7a5321ac-9550-4771-c67c-74f96b4dcc0f"
      },
      "outputs": [
        {
          "output_type": "execute_result",
          "data": {
            "text/plain": [
              "3"
            ]
          },
          "metadata": {},
          "execution_count": 3
        }
      ],
      "source": [
        "output.write('123')"
      ]
    },
    {
      "cell_type": "code",
      "execution_count": 4,
      "id": "d08c53b4",
      "metadata": {
        "id": "d08c53b4"
      },
      "outputs": [],
      "source": [
        "output.close()"
      ]
    },
    {
      "cell_type": "markdown",
      "id": "b3bcebad",
      "metadata": {
        "id": "b3bcebad"
      },
      "source": [
        "Как вы могли заметить, функция возвращает число записанных байт. Это важная часть контракта, которую нужно поддержать, если вы хотите как-то подменять эту функцию."
      ]
    },
    {
      "cell_type": "markdown",
      "id": "23b94491",
      "metadata": {
        "id": "23b94491"
      },
      "source": [
        "## Задача 1"
      ]
    },
    {
      "cell_type": "markdown",
      "id": "1eb22a2f",
      "metadata": {
        "id": "1eb22a2f"
      },
      "source": [
        "Для начала, давайте подменим метод `write` у объекта `sys.stdin` на такую функцию, которая перед каждым вызовом оригинальной функции записи данных в `stdout` допечатывает к тексту текущую метку времени."
      ]
    },
    {
      "cell_type": "code",
      "source": [
        "import datetime"
      ],
      "metadata": {
        "id": "NsX-gKpQltwf"
      },
      "id": "NsX-gKpQltwf",
      "execution_count": 5,
      "outputs": []
    },
    {
      "cell_type": "code",
      "execution_count": 6,
      "id": "732073b9",
      "metadata": {
        "id": "732073b9"
      },
      "outputs": [],
      "source": [
        "original_write = sys.stdout.write\n",
        "\n",
        "def my_write(string_text):\n",
        "    return original_write(f'[{datetime.datetime.now()}]: {string_text}') # Write your own code\n",
        "\n",
        "sys.stdout.write = my_write"
      ]
    },
    {
      "cell_type": "code",
      "source": [],
      "metadata": {
        "id": "6D4bUADQpqVP"
      },
      "id": "6D4bUADQpqVP",
      "execution_count": 6,
      "outputs": []
    },
    {
      "cell_type": "code",
      "execution_count": 7,
      "id": "d8f650f6",
      "metadata": {
        "colab": {
          "base_uri": "https://localhost:8080/"
        },
        "id": "d8f650f6",
        "outputId": "67455115-c29b-4aad-abe8-9ceaf93b2eda"
      },
      "outputs": [
        {
          "output_type": "stream",
          "name": "stdout",
          "text": [
            "[2022-11-20 21:07:46.275623]: 1, 2, 3"
          ]
        }
      ],
      "source": [
        "sys.stdout.write('1, 2, 3')"
      ]
    },
    {
      "cell_type": "code",
      "execution_count": 8,
      "id": "37617332",
      "metadata": {
        "id": "37617332"
      },
      "outputs": [],
      "source": [
        "sys.stdout.write = original_write"
      ]
    },
    {
      "cell_type": "markdown",
      "id": "3c5e22b6",
      "metadata": {
        "id": "3c5e22b6"
      },
      "source": [
        "Вывод должен был бы быть примерно таким:"
      ]
    },
    {
      "cell_type": "markdown",
      "id": "e62d012d",
      "metadata": {
        "id": "e62d012d"
      },
      "source": [
        "```\n",
        "[2021-12-05 12:00:00]: 1, 2, 3\n",
        "```"
      ]
    },
    {
      "cell_type": "markdown",
      "id": "903fcee1",
      "metadata": {
        "id": "903fcee1"
      },
      "source": [
        "## Задача 2\n",
        "\n",
        "Упакуйте только что написанный код в декторатор. Весь вывод фукнции должен быть помечен временными метками так, как видно выше."
      ]
    },
    {
      "cell_type": "code",
      "execution_count": 9,
      "id": "5804423b",
      "metadata": {
        "id": "5804423b"
      },
      "outputs": [],
      "source": [
        "def timed_output(function):\n",
        "    def wrapper(name):\n",
        "        print(f'[{datetime.datetime.now()}]: ', end='')\n",
        "        function(name)\n",
        "\n",
        "    return wrapper"
      ]
    },
    {
      "cell_type": "code",
      "execution_count": 10,
      "id": "f43373a5",
      "metadata": {
        "id": "f43373a5"
      },
      "outputs": [],
      "source": [
        "@timed_output\n",
        "def print_greeting(name):\n",
        "    print(f'Hello, {name}!')"
      ]
    },
    {
      "cell_type": "code",
      "execution_count": 11,
      "id": "6a2283db",
      "metadata": {
        "colab": {
          "base_uri": "https://localhost:8080/"
        },
        "id": "6a2283db",
        "outputId": "1c51fa33-51f8-431a-b72f-6a4afd083f01"
      },
      "outputs": [
        {
          "output_type": "stream",
          "name": "stdout",
          "text": [
            "[2022-11-20 21:07:46.323391]: Hello, Nikita!\n"
          ]
        }
      ],
      "source": [
        "print_greeting(\"Nikita\")"
      ]
    },
    {
      "cell_type": "markdown",
      "id": "37fad5fd",
      "metadata": {
        "id": "37fad5fd"
      },
      "source": [
        "Вывод должен быть похож на следующий:\n",
        "\n",
        "```\n",
        "[2021-12-05 12:00:00]: Hello, Nikita!\n",
        "```"
      ]
    },
    {
      "cell_type": "markdown",
      "id": "8a3aee6d",
      "metadata": {
        "id": "8a3aee6d"
      },
      "source": [
        "## Задача 3\n",
        "\n",
        "Напишите декторатор, который будет перенаправлять вывод фукнции в файл. \n",
        "\n",
        "Подсказка: вы можете заменить объект sys.stdout каким-нибудь другим объектом."
      ]
    },
    {
      "cell_type": "code",
      "execution_count": 12,
      "id": "de733186",
      "metadata": {
        "id": "de733186"
      },
      "outputs": [],
      "source": [
        "def redirect_output(filepath):\n",
        "    def wrapper(function):\n",
        "        def inner_wrapper():\n",
        "            output = open(filepath, 'w')\n",
        "            sys.stdout = output\n",
        "            return function()\n",
        "        return inner_wrapper\n",
        "    return wrapper"
      ]
    },
    {
      "cell_type": "code",
      "execution_count": 13,
      "id": "37e01742",
      "metadata": {
        "id": "37e01742"
      },
      "outputs": [],
      "source": [
        "@redirect_output('./function_output.txt')\n",
        "def calculate():\n",
        "    for power in range(1, 5):\n",
        "        for num in range(1, 20):\n",
        "            print(num ** power, end=' ')\n",
        "        print()"
      ]
    },
    {
      "cell_type": "code",
      "execution_count": 14,
      "id": "e892f124",
      "metadata": {
        "id": "e892f124"
      },
      "outputs": [],
      "source": [
        "calculate()"
      ]
    },
    {
      "cell_type": "code",
      "execution_count": 15,
      "id": "ac06c89e",
      "metadata": {
        "id": "ac06c89e"
      },
      "outputs": [],
      "source": [
        "%cat function_output.txt"
      ]
    },
    {
      "cell_type": "code",
      "execution_count": 15,
      "id": "1dcf9ba1",
      "metadata": {
        "id": "1dcf9ba1"
      },
      "outputs": [],
      "source": []
    }
  ],
  "metadata": {
    "kernelspec": {
      "display_name": "Python 3 (ipykernel)",
      "language": "python",
      "name": "python3"
    },
    "language_info": {
      "codemirror_mode": {
        "name": "ipython",
        "version": 3
      },
      "file_extension": ".py",
      "mimetype": "text/x-python",
      "name": "python",
      "nbconvert_exporter": "python",
      "pygments_lexer": "ipython3",
      "version": "3.9.9"
    },
    "colab": {
      "provenance": []
    }
  },
  "nbformat": 4,
  "nbformat_minor": 5
}